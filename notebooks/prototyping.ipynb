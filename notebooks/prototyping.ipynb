{
 "cells": [
  {
   "cell_type": "code",
   "execution_count": null,
   "id": "82802aa2",
   "metadata": {},
   "outputs": [],
   "source": [
    "import pandas as pd\n",
    "import numpy as np\n",
    "from sklearn.model_selection import train_test_split\n",
    "from sklearn.ensemble import RandomForestRegressor\n",
    "from xgboost import XGBRegressor\n",
    "from sklearn.metrics import mean_squared_error, r2_score\n",
    "from catboost import CatBoostRegressor\n",
    "import mlflow\n",
    "from mlflow.tracking import MlflowClient\n",
    "import mlflow.sklearn\n",
    "from mlflow.models.signature import infer_signature\n",
    "import mlflow.exceptions\n",
    "\n"
   ]
  },
  {
   "cell_type": "markdown",
   "id": "eef71880",
   "metadata": {},
   "source": [
    "## Data Loading and Inspection"
   ]
  },
  {
   "cell_type": "code",
   "execution_count": null,
   "id": "aecf1aaa",
   "metadata": {},
   "outputs": [],
   "source": [
    "# Load the dataset\n",
    "df = pd.read_csv('../data/data.csv')"
   ]
  },
  {
   "cell_type": "code",
   "execution_count": null,
   "id": "092eecf6",
   "metadata": {},
   "outputs": [
    {
     "data": {
      "text/html": [
       "<div>\n",
       "<style scoped>\n",
       "    .dataframe tbody tr th:only-of-type {\n",
       "        vertical-align: middle;\n",
       "    }\n",
       "\n",
       "    .dataframe tbody tr th {\n",
       "        vertical-align: top;\n",
       "    }\n",
       "\n",
       "    .dataframe thead th {\n",
       "        text-align: right;\n",
       "    }\n",
       "</style>\n",
       "<table border=\"1\" class=\"dataframe\">\n",
       "  <thead>\n",
       "    <tr style=\"text-align: right;\">\n",
       "      <th></th>\n",
       "      <th>UNIXTime</th>\n",
       "      <th>Data</th>\n",
       "      <th>Time</th>\n",
       "      <th>Radiation</th>\n",
       "      <th>Temperature</th>\n",
       "      <th>Pressure</th>\n",
       "      <th>Humidity</th>\n",
       "      <th>WindDirection(Degrees)</th>\n",
       "      <th>Speed</th>\n",
       "      <th>TimeSunRise</th>\n",
       "      <th>TimeSunSet</th>\n",
       "      <th>datetime</th>\n",
       "    </tr>\n",
       "  </thead>\n",
       "  <tbody>\n",
       "    <tr>\n",
       "      <th>0</th>\n",
       "      <td>1472724008</td>\n",
       "      <td>9/1/2016 12:00:00 AM</td>\n",
       "      <td>00:00:08</td>\n",
       "      <td>2.58</td>\n",
       "      <td>51</td>\n",
       "      <td>30.43</td>\n",
       "      <td>103</td>\n",
       "      <td>77.27</td>\n",
       "      <td>11.25</td>\n",
       "      <td>06:07:00</td>\n",
       "      <td>18:38:00</td>\n",
       "      <td>2016-09-01 10:00:08</td>\n",
       "    </tr>\n",
       "    <tr>\n",
       "      <th>1</th>\n",
       "      <td>1472724310</td>\n",
       "      <td>9/1/2016 12:00:00 AM</td>\n",
       "      <td>00:05:10</td>\n",
       "      <td>2.83</td>\n",
       "      <td>51</td>\n",
       "      <td>30.43</td>\n",
       "      <td>103</td>\n",
       "      <td>153.44</td>\n",
       "      <td>9.00</td>\n",
       "      <td>06:07:00</td>\n",
       "      <td>18:38:00</td>\n",
       "      <td>2016-09-01 10:05:10</td>\n",
       "    </tr>\n",
       "    <tr>\n",
       "      <th>2</th>\n",
       "      <td>1472725206</td>\n",
       "      <td>9/1/2016 12:00:00 AM</td>\n",
       "      <td>00:20:06</td>\n",
       "      <td>2.16</td>\n",
       "      <td>51</td>\n",
       "      <td>30.43</td>\n",
       "      <td>103</td>\n",
       "      <td>142.04</td>\n",
       "      <td>7.87</td>\n",
       "      <td>06:07:00</td>\n",
       "      <td>18:38:00</td>\n",
       "      <td>2016-09-01 10:20:06</td>\n",
       "    </tr>\n",
       "    <tr>\n",
       "      <th>3</th>\n",
       "      <td>1472725505</td>\n",
       "      <td>9/1/2016 12:00:00 AM</td>\n",
       "      <td>00:25:05</td>\n",
       "      <td>2.21</td>\n",
       "      <td>51</td>\n",
       "      <td>30.43</td>\n",
       "      <td>103</td>\n",
       "      <td>144.12</td>\n",
       "      <td>18.00</td>\n",
       "      <td>06:07:00</td>\n",
       "      <td>18:38:00</td>\n",
       "      <td>2016-09-01 10:25:05</td>\n",
       "    </tr>\n",
       "    <tr>\n",
       "      <th>4</th>\n",
       "      <td>1472725809</td>\n",
       "      <td>9/1/2016 12:00:00 AM</td>\n",
       "      <td>00:30:09</td>\n",
       "      <td>2.25</td>\n",
       "      <td>51</td>\n",
       "      <td>30.43</td>\n",
       "      <td>103</td>\n",
       "      <td>67.42</td>\n",
       "      <td>11.25</td>\n",
       "      <td>06:07:00</td>\n",
       "      <td>18:38:00</td>\n",
       "      <td>2016-09-01 10:30:09</td>\n",
       "    </tr>\n",
       "  </tbody>\n",
       "</table>\n",
       "</div>"
      ],
      "text/plain": [
       "     UNIXTime                  Data      Time  Radiation  Temperature  \\\n",
       "0  1472724008  9/1/2016 12:00:00 AM  00:00:08       2.58           51   \n",
       "1  1472724310  9/1/2016 12:00:00 AM  00:05:10       2.83           51   \n",
       "2  1472725206  9/1/2016 12:00:00 AM  00:20:06       2.16           51   \n",
       "3  1472725505  9/1/2016 12:00:00 AM  00:25:05       2.21           51   \n",
       "4  1472725809  9/1/2016 12:00:00 AM  00:30:09       2.25           51   \n",
       "\n",
       "   Pressure  Humidity  WindDirection(Degrees)  Speed TimeSunRise TimeSunSet  \\\n",
       "0     30.43       103                   77.27  11.25    06:07:00   18:38:00   \n",
       "1     30.43       103                  153.44   9.00    06:07:00   18:38:00   \n",
       "2     30.43       103                  142.04   7.87    06:07:00   18:38:00   \n",
       "3     30.43       103                  144.12  18.00    06:07:00   18:38:00   \n",
       "4     30.43       103                   67.42  11.25    06:07:00   18:38:00   \n",
       "\n",
       "              datetime  \n",
       "0  2016-09-01 10:00:08  \n",
       "1  2016-09-01 10:05:10  \n",
       "2  2016-09-01 10:20:06  \n",
       "3  2016-09-01 10:25:05  \n",
       "4  2016-09-01 10:30:09  "
      ]
     },
     "execution_count": 5,
     "metadata": {},
     "output_type": "execute_result"
    }
   ],
   "source": [
    "# Display first few rows of the DataFrame\n",
    "df.head()"
   ]
  },
  {
   "cell_type": "code",
   "execution_count": null,
   "id": "fc06fd55",
   "metadata": {},
   "outputs": [
    {
     "name": "stdout",
     "output_type": "stream",
     "text": [
      "<class 'pandas.core.frame.DataFrame'>\n",
      "RangeIndex: 26148 entries, 0 to 26147\n",
      "Data columns (total 12 columns):\n",
      " #   Column                  Non-Null Count  Dtype  \n",
      "---  ------                  --------------  -----  \n",
      " 0   UNIXTime                26148 non-null  int64  \n",
      " 1   Data                    26148 non-null  object \n",
      " 2   Time                    26148 non-null  object \n",
      " 3   Radiation               26148 non-null  float64\n",
      " 4   Temperature             26148 non-null  int64  \n",
      " 5   Pressure                26148 non-null  float64\n",
      " 6   Humidity                26148 non-null  int64  \n",
      " 7   WindDirection(Degrees)  26148 non-null  float64\n",
      " 8   Speed                   26148 non-null  float64\n",
      " 9   TimeSunRise             26148 non-null  object \n",
      " 10  TimeSunSet              26148 non-null  object \n",
      " 11  datetime                26148 non-null  object \n",
      "dtypes: float64(4), int64(3), object(5)\n",
      "memory usage: 2.4+ MB\n"
     ]
    }
   ],
   "source": [
    "# Display basic information about the DataFrame\n",
    "df.info()"
   ]
  },
  {
   "cell_type": "code",
   "execution_count": 7,
   "id": "c4da8c3b",
   "metadata": {},
   "outputs": [
    {
     "data": {
      "text/html": [
       "<div>\n",
       "<style scoped>\n",
       "    .dataframe tbody tr th:only-of-type {\n",
       "        vertical-align: middle;\n",
       "    }\n",
       "\n",
       "    .dataframe tbody tr th {\n",
       "        vertical-align: top;\n",
       "    }\n",
       "\n",
       "    .dataframe thead th {\n",
       "        text-align: right;\n",
       "    }\n",
       "</style>\n",
       "<table border=\"1\" class=\"dataframe\">\n",
       "  <thead>\n",
       "    <tr style=\"text-align: right;\">\n",
       "      <th></th>\n",
       "      <th>UNIXTime</th>\n",
       "      <th>Radiation</th>\n",
       "      <th>Temperature</th>\n",
       "      <th>Pressure</th>\n",
       "      <th>Humidity</th>\n",
       "      <th>WindDirection(Degrees)</th>\n",
       "      <th>Speed</th>\n",
       "    </tr>\n",
       "  </thead>\n",
       "  <tbody>\n",
       "    <tr>\n",
       "      <th>count</th>\n",
       "      <td>2.614800e+04</td>\n",
       "      <td>26148.000000</td>\n",
       "      <td>26148.000000</td>\n",
       "      <td>26148.000000</td>\n",
       "      <td>26148.000000</td>\n",
       "      <td>26148.000000</td>\n",
       "      <td>26148.000000</td>\n",
       "    </tr>\n",
       "    <tr>\n",
       "      <th>mean</th>\n",
       "      <td>1.476988e+09</td>\n",
       "      <td>218.000950</td>\n",
       "      <td>51.861749</td>\n",
       "      <td>30.434092</td>\n",
       "      <td>74.614349</td>\n",
       "      <td>134.404504</td>\n",
       "      <td>6.042688</td>\n",
       "    </tr>\n",
       "    <tr>\n",
       "      <th>std</th>\n",
       "      <td>2.367042e+06</td>\n",
       "      <td>326.410173</td>\n",
       "      <td>6.177191</td>\n",
       "      <td>0.037621</td>\n",
       "      <td>26.249730</td>\n",
       "      <td>79.359142</td>\n",
       "      <td>3.049319</td>\n",
       "    </tr>\n",
       "    <tr>\n",
       "      <th>min</th>\n",
       "      <td>1.472724e+09</td>\n",
       "      <td>1.130000</td>\n",
       "      <td>38.000000</td>\n",
       "      <td>30.280000</td>\n",
       "      <td>8.000000</td>\n",
       "      <td>0.090000</td>\n",
       "      <td>0.000000</td>\n",
       "    </tr>\n",
       "    <tr>\n",
       "      <th>25%</th>\n",
       "      <td>1.474960e+09</td>\n",
       "      <td>1.230000</td>\n",
       "      <td>47.000000</td>\n",
       "      <td>30.410000</td>\n",
       "      <td>55.000000</td>\n",
       "      <td>74.307500</td>\n",
       "      <td>3.370000</td>\n",
       "    </tr>\n",
       "    <tr>\n",
       "      <th>50%</th>\n",
       "      <td>1.477042e+09</td>\n",
       "      <td>2.900000</td>\n",
       "      <td>51.000000</td>\n",
       "      <td>30.440000</td>\n",
       "      <td>85.000000</td>\n",
       "      <td>139.880000</td>\n",
       "      <td>5.620000</td>\n",
       "    </tr>\n",
       "    <tr>\n",
       "      <th>75%</th>\n",
       "      <td>1.479008e+09</td>\n",
       "      <td>380.567500</td>\n",
       "      <td>56.000000</td>\n",
       "      <td>30.460000</td>\n",
       "      <td>97.000000</td>\n",
       "      <td>173.540000</td>\n",
       "      <td>7.870000</td>\n",
       "    </tr>\n",
       "    <tr>\n",
       "      <th>max</th>\n",
       "      <td>1.481299e+09</td>\n",
       "      <td>1601.260000</td>\n",
       "      <td>71.000000</td>\n",
       "      <td>30.540000</td>\n",
       "      <td>103.000000</td>\n",
       "      <td>359.950000</td>\n",
       "      <td>27.000000</td>\n",
       "    </tr>\n",
       "  </tbody>\n",
       "</table>\n",
       "</div>"
      ],
      "text/plain": [
       "           UNIXTime     Radiation   Temperature      Pressure      Humidity  \\\n",
       "count  2.614800e+04  26148.000000  26148.000000  26148.000000  26148.000000   \n",
       "mean   1.476988e+09    218.000950     51.861749     30.434092     74.614349   \n",
       "std    2.367042e+06    326.410173      6.177191      0.037621     26.249730   \n",
       "min    1.472724e+09      1.130000     38.000000     30.280000      8.000000   \n",
       "25%    1.474960e+09      1.230000     47.000000     30.410000     55.000000   \n",
       "50%    1.477042e+09      2.900000     51.000000     30.440000     85.000000   \n",
       "75%    1.479008e+09    380.567500     56.000000     30.460000     97.000000   \n",
       "max    1.481299e+09   1601.260000     71.000000     30.540000    103.000000   \n",
       "\n",
       "       WindDirection(Degrees)         Speed  \n",
       "count            26148.000000  26148.000000  \n",
       "mean               134.404504      6.042688  \n",
       "std                 79.359142      3.049319  \n",
       "min                  0.090000      0.000000  \n",
       "25%                 74.307500      3.370000  \n",
       "50%                139.880000      5.620000  \n",
       "75%                173.540000      7.870000  \n",
       "max                359.950000     27.000000  "
      ]
     },
     "execution_count": 7,
     "metadata": {},
     "output_type": "execute_result"
    }
   ],
   "source": [
    "# Basic statistics of the DataFrame\n",
    "df.describe()"
   ]
  },
  {
   "cell_type": "markdown",
   "id": "e2dbb387",
   "metadata": {},
   "source": [
    "### Data Cleanng"
   ]
  },
  {
   "cell_type": "code",
   "execution_count": 8,
   "id": "3e8a97a5",
   "metadata": {},
   "outputs": [
    {
     "data": {
      "text/plain": [
       "np.int64(0)"
      ]
     },
     "execution_count": 8,
     "metadata": {},
     "output_type": "execute_result"
    }
   ],
   "source": [
    "# check duplicate count\n",
    "df.duplicated().sum()"
   ]
  },
  {
   "cell_type": "code",
   "execution_count": 9,
   "id": "841d7f32",
   "metadata": {},
   "outputs": [
    {
     "name": "stdout",
     "output_type": "stream",
     "text": [
      "UNIXTime                  0\n",
      "Data                      0\n",
      "Time                      0\n",
      "Radiation                 0\n",
      "Temperature               0\n",
      "Pressure                  0\n",
      "Humidity                  0\n",
      "WindDirection(Degrees)    0\n",
      "Speed                     0\n",
      "TimeSunRise               0\n",
      "TimeSunSet                0\n",
      "datetime                  0\n",
      "dtype: int64\n"
     ]
    }
   ],
   "source": [
    "# Check for missing values\n",
    "print(df.isna().sum())"
   ]
  },
  {
   "cell_type": "code",
   "execution_count": 10,
   "id": "b42ab1c8",
   "metadata": {},
   "outputs": [],
   "source": [
    "# Drop duplicates \n",
    "df.drop_duplicates(inplace=True)"
   ]
  },
  {
   "cell_type": "code",
   "execution_count": 11,
   "id": "64f6b069",
   "metadata": {},
   "outputs": [],
   "source": [
    "# Drop rows with all nulls \n",
    "df.dropna(how='all', inplace=True)"
   ]
  },
  {
   "cell_type": "markdown",
   "id": "66a4f15d",
   "metadata": {},
   "source": [
    "### Feature Engineering "
   ]
  },
  {
   "cell_type": "code",
   "execution_count": null,
   "id": "4dc68484",
   "metadata": {},
   "outputs": [
    {
     "data": {
      "text/plain": [
       "(26148, 12)"
      ]
     },
     "execution_count": 12,
     "metadata": {},
     "output_type": "execute_result"
    }
   ],
   "source": [
    "# shape of the DataFrame\n",
    "df.shape"
   ]
  },
  {
   "cell_type": "markdown",
   "id": "b5fdb389",
   "metadata": {},
   "source": [
    "##### cyclical encoding"
   ]
  },
  {
   "cell_type": "code",
   "execution_count": 13,
   "id": "d4b7c24e",
   "metadata": {},
   "outputs": [],
   "source": [
    "# Convert UNIXTime to datetime\n",
    "df['DateTime'] = pd.to_datetime(df['UNIXTime'], unit='s')"
   ]
  },
  {
   "cell_type": "code",
   "execution_count": 14,
   "id": "e1324509",
   "metadata": {},
   "outputs": [],
   "source": [
    "# Extract datetime features\n",
    "df['Hour'] = df['DateTime'].dt.hour\n",
    "df['Minute'] = df['DateTime'].dt.minute\n",
    "df['Day'] = df['DateTime'].dt.day\n",
    "df['Month'] = df['DateTime'].dt.month\n",
    "df['Weekday'] = df['DateTime'].dt.weekday"
   ]
  },
  {
   "cell_type": "code",
   "execution_count": 15,
   "id": "fd095b5b",
   "metadata": {},
   "outputs": [],
   "source": [
    "# Hour of day (0–23)\n",
    "df['Hour_sin'] = np.sin(2 * np.pi * df['Hour'] / 24)\n",
    "df['Hour_cos'] = np.cos(2 * np.pi * df['Hour'] / 24)\n",
    "\n",
    "# Minute (0–59)\n",
    "df['Minute_sin'] = np.sin(2 * np.pi * df['Minute'] / 60)\n",
    "df['Minute_cos'] = np.cos(2 * np.pi * df['Minute'] / 60)\n",
    "\n",
    "# Day of month (1–31)\n",
    "df['Day_sin'] = np.sin(2 * np.pi * df['Day'] / 31)\n",
    "df['Day_cos'] = np.cos(2 * np.pi * df['Day'] / 31)\n",
    "\n",
    "# Month (1–12)\n",
    "df['Month_sin'] = np.sin(2 * np.pi * df['Month'] / 12)\n",
    "df['Month_cos'] = np.cos(2 * np.pi * df['Month'] / 12)\n",
    "\n",
    "# Weekday (0=Monday)\n",
    "df['Weekday_sin'] = np.sin(2 * np.pi * df['Weekday'] / 7)\n",
    "df['Weekday_cos'] = np.cos(2 * np.pi * df['Weekday'] / 7)"
   ]
  },
  {
   "cell_type": "markdown",
   "id": "edf3ef0f",
   "metadata": {},
   "source": [
    "#### Process Sunrise/Sunset Time"
   ]
  },
  {
   "cell_type": "code",
   "execution_count": 16,
   "id": "350ad2c3",
   "metadata": {},
   "outputs": [],
   "source": [
    "# Convert sunrise/sunset to timedelta\n",
    "df['TimeSunRise_obj'] = pd.to_timedelta(df['TimeSunRise'])\n",
    "df['TimeSunSet_obj'] = pd.to_timedelta(df['TimeSunSet'])\n",
    "\n",
    "# Create actual sunrise/sunset datetime based on date of DateTime\n",
    "df['SunriseDateTime'] = df['DateTime'].dt.normalize() + df['TimeSunRise_obj']\n",
    "df['SunsetDateTime'] = df['DateTime'].dt.normalize() + df['TimeSunSet_obj']\n",
    "\n",
    "# Calculate minutes since sunrise / until sunset\n",
    "df['MinutesSinceSunrise'] = (df['DateTime'] - df['SunriseDateTime']).dt.total_seconds() / 60\n",
    "df['MinutesUntilSunset'] = (df['SunsetDateTime'] - df['DateTime']).dt.total_seconds() / 60"
   ]
  },
  {
   "cell_type": "markdown",
   "id": "aa7f3e3b",
   "metadata": {},
   "source": [
    "##### Drop Columns that are not needed"
   ]
  },
  {
   "cell_type": "code",
   "execution_count": 17,
   "id": "cfe61ce7",
   "metadata": {},
   "outputs": [],
   "source": [
    "df.drop(columns=[\n",
    "    'UNIXTime', 'Data', 'Time',\n",
    "    'TimeSunRise', 'TimeSunSet',\n",
    "    'TimeSunRise_obj', 'TimeSunSet_obj',\n",
    "    'Hour', 'Minute', 'Day', \n",
    "    'Month', 'Weekday', 'DateTime'\n",
    "], inplace=True)\n"
   ]
  },
  {
   "cell_type": "code",
   "execution_count": null,
   "id": "047c8aff",
   "metadata": {},
   "outputs": [
    {
     "data": {
      "text/plain": [
       "(26148, 21)"
      ]
     },
     "execution_count": 18,
     "metadata": {},
     "output_type": "execute_result"
    }
   ],
   "source": [
    "# shape after dropping columns\n",
    "df.shape"
   ]
  },
  {
   "cell_type": "code",
   "execution_count": 19,
   "id": "872d833e",
   "metadata": {},
   "outputs": [
    {
     "name": "stdout",
     "output_type": "stream",
     "text": [
      "<class 'pandas.core.frame.DataFrame'>\n",
      "RangeIndex: 26148 entries, 0 to 26147\n",
      "Data columns (total 21 columns):\n",
      " #   Column                  Non-Null Count  Dtype         \n",
      "---  ------                  --------------  -----         \n",
      " 0   Radiation               26148 non-null  float64       \n",
      " 1   Temperature             26148 non-null  int64         \n",
      " 2   Pressure                26148 non-null  float64       \n",
      " 3   Humidity                26148 non-null  int64         \n",
      " 4   WindDirection(Degrees)  26148 non-null  float64       \n",
      " 5   Speed                   26148 non-null  float64       \n",
      " 6   datetime                26148 non-null  object        \n",
      " 7   Hour_sin                26148 non-null  float64       \n",
      " 8   Hour_cos                26148 non-null  float64       \n",
      " 9   Minute_sin              26148 non-null  float64       \n",
      " 10  Minute_cos              26148 non-null  float64       \n",
      " 11  Day_sin                 26148 non-null  float64       \n",
      " 12  Day_cos                 26148 non-null  float64       \n",
      " 13  Month_sin               26148 non-null  float64       \n",
      " 14  Month_cos               26148 non-null  float64       \n",
      " 15  Weekday_sin             26148 non-null  float64       \n",
      " 16  Weekday_cos             26148 non-null  float64       \n",
      " 17  SunriseDateTime         26148 non-null  datetime64[ns]\n",
      " 18  SunsetDateTime          26148 non-null  datetime64[ns]\n",
      " 19  MinutesSinceSunrise     26148 non-null  float64       \n",
      " 20  MinutesUntilSunset      26148 non-null  float64       \n",
      "dtypes: datetime64[ns](2), float64(16), int64(2), object(1)\n",
      "memory usage: 4.2+ MB\n"
     ]
    }
   ],
   "source": [
    "df.info()"
   ]
  },
  {
   "cell_type": "code",
   "execution_count": 20,
   "id": "82f04463",
   "metadata": {},
   "outputs": [
    {
     "data": {
      "text/plain": [
       "Month_sin                     4\n",
       "Month_cos                     4\n",
       "Weekday_sin                   7\n",
       "Weekday_cos                   7\n",
       "Hour_cos                     22\n",
       "Hour_sin                     22\n",
       "Speed                        24\n",
       "Minute_cos                   26\n",
       "Day_cos                      26\n",
       "Minute_sin                   26\n",
       "Pressure                     27\n",
       "Day_sin                      31\n",
       "Temperature                  34\n",
       "Humidity                     94\n",
       "SunriseDateTime             136\n",
       "SunsetDateTime              154\n",
       "Radiation                 11994\n",
       "WindDirection(Degrees)    15178\n",
       "MinutesUntilSunset        16092\n",
       "MinutesSinceSunrise       16096\n",
       "datetime                  26148\n",
       "dtype: int64"
      ]
     },
     "execution_count": 20,
     "metadata": {},
     "output_type": "execute_result"
    }
   ],
   "source": [
    "df.nunique().sort_values()"
   ]
  },
  {
   "cell_type": "markdown",
   "id": "d9409240",
   "metadata": {},
   "source": [
    "#### Feature Selection"
   ]
  },
  {
   "cell_type": "code",
   "execution_count": 23,
   "id": "b141aa59",
   "metadata": {},
   "outputs": [
    {
     "data": {
      "text/plain": [
       "Index(['Radiation', 'Temperature', 'Pressure', 'Humidity',\n",
       "       'WindDirection(Degrees)', 'Speed', 'datetime', 'Hour_sin', 'Hour_cos',\n",
       "       'Minute_sin', 'Minute_cos', 'Day_sin', 'Day_cos', 'Month_sin',\n",
       "       'Month_cos', 'Weekday_sin', 'Weekday_cos', 'SunriseDateTime',\n",
       "       'SunsetDateTime', 'MinutesSinceSunrise', 'MinutesUntilSunset'],\n",
       "      dtype='object')"
      ]
     },
     "execution_count": 23,
     "metadata": {},
     "output_type": "execute_result"
    }
   ],
   "source": [
    "df.columns"
   ]
  },
  {
   "cell_type": "markdown",
   "id": "624e2e74",
   "metadata": {},
   "source": [
    "#### Base Models and Feature Selection"
   ]
  },
  {
   "cell_type": "code",
   "execution_count": null,
   "id": "7f291a98",
   "metadata": {},
   "outputs": [],
   "source": [
    "features = ['Temperature', 'Pressure', 'Humidity',\n",
    "       'WindDirection(Degrees)', 'Speed', 'Hour_sin', \n",
    "       'Hour_cos', 'Minute_sin', 'Minute_cos', 'Day_sin', \n",
    "       'Day_cos', 'Month_sin', 'Month_cos', 'Weekday_sin', \n",
    "       'Weekday_cos', 'MinutesSinceSunrise', 'MinutesUntilSunset']"
   ]
  },
  {
   "cell_type": "code",
   "execution_count": null,
   "id": "75ed2ca6",
   "metadata": {},
   "outputs": [
    {
     "name": "stdout",
     "output_type": "stream",
     "text": [
      "\n",
      "Training RandomForest with all features...\n",
      "Selected features for RandomForest: ['Temperature', 'Pressure', 'Humidity', 'WindDirection(Degrees)', 'Speed', 'Day_sin', 'Day_cos', 'Month_sin', 'MinutesSinceSunrise', 'MinutesUntilSunset']\n",
      "RandomForest Base Model -> RMSE: 76.5182, R2: 0.9454\n",
      "\n",
      "Training XGBoost with all features...\n",
      "Selected features for XGBoost: ['Temperature', 'Pressure', 'Humidity', 'WindDirection(Degrees)', 'Speed', 'Hour_sin', 'Hour_cos', 'Minute_sin', 'Minute_cos', 'Day_sin', 'Day_cos', 'Month_sin', 'Weekday_sin', 'Weekday_cos', 'MinutesSinceSunrise', 'MinutesUntilSunset']\n",
      "XGBoost Base Model -> RMSE: 80.3027, R2: 0.9399\n",
      "\n",
      "Training CatBoost with all features...\n",
      "Selected features for CatBoost: ['Temperature', 'Pressure', 'Humidity', 'WindDirection(Degrees)', 'Speed', 'Hour_sin', 'Hour_cos', 'Minute_sin', 'Minute_cos', 'Day_sin', 'Day_cos', 'Month_sin', 'Month_cos', 'Weekday_sin', 'Weekday_cos', 'MinutesSinceSunrise', 'MinutesUntilSunset']\n",
      "CatBoost Base Model -> RMSE: 77.9769, R2: 0.9433\n",
      "\n",
      "Selected Features Per Model:\n",
      " {'RandomForest': ['Temperature', 'Pressure', 'Humidity', 'WindDirection(Degrees)', 'Speed', 'Day_sin', 'Day_cos', 'Month_sin', 'MinutesSinceSunrise', 'MinutesUntilSunset'], 'XGBoost': ['Temperature', 'Pressure', 'Humidity', 'WindDirection(Degrees)', 'Speed', 'Hour_sin', 'Hour_cos', 'Minute_sin', 'Minute_cos', 'Day_sin', 'Day_cos', 'Month_sin', 'Weekday_sin', 'Weekday_cos', 'MinutesSinceSunrise', 'MinutesUntilSunset'], 'CatBoost': ['Temperature', 'Pressure', 'Humidity', 'WindDirection(Degrees)', 'Speed', 'Hour_sin', 'Hour_cos', 'Minute_sin', 'Minute_cos', 'Day_sin', 'Day_cos', 'Month_sin', 'Month_cos', 'Weekday_sin', 'Weekday_cos', 'MinutesSinceSunrise', 'MinutesUntilSunset']}\n",
      "\n",
      "Base Model Metrics:\n",
      " {'RandomForest': {'RMSE': np.float64(76.51822160081764), 'R2': 0.9454394428955204}, 'XGBoost': {'RMSE': np.float64(80.30268289158863), 'R2': 0.9399090360384554}, 'CatBoost': {'RMSE': np.float64(77.97693057163666), 'R2': 0.9433393786991401}}\n"
     ]
    }
   ],
   "source": [
    "# Sample Data\n",
    "X = df[features]\n",
    "y = df['Radiation']\n",
    "\n",
    "# train-test split\n",
    "X_train, X_test, y_train, y_test = train_test_split(X, y, test_size=0.2, random_state=42)\n",
    "\n",
    "# Define models\n",
    "models = {\n",
    "    'RandomForest': RandomForestRegressor(),\n",
    "    'XGBoost': XGBRegressor(),\n",
    "    'CatBoost': CatBoostRegressor(verbose=0)\n",
    "}\n",
    "\n",
    "# Feature selection threshold\n",
    "feature_threshold = 0.005 \n",
    "selected_features_per_model = {}  # Dictionary to store selected features per model\n",
    "metrics_per_model = {} # Dictionary to store metrics per model\n",
    "\n",
    "\n",
    "# Train and evaluate each model\n",
    "for name, model in models.items():\n",
    "    print(f\"\\nTraining {name} with all features...\")\n",
    "    model.fit(X_train, y_train)\n",
    "    \n",
    "    # Extract feature importances\n",
    "    if name == 'XGBoost':\n",
    "        importances = pd.Series(model.get_booster().get_score(importance_type='weight'))\n",
    "        importances = importances / importances.sum()\n",
    "        importances = importances.reindex(X.columns, fill_value=0)\n",
    "    else:\n",
    "        importances = pd.Series(model.feature_importances_, index=X.columns)\n",
    "    \n",
    "    selected_features = importances[importances >= feature_threshold].index.tolist()\n",
    "    selected_features_per_model[name] = selected_features\n",
    "    print(f\"Selected features for {name}: {selected_features}\")\n",
    "    \n",
    "    # Evaluate base model\n",
    "    preds = model.predict(X_test)\n",
    "    rmse = np.sqrt(mean_squared_error(y_test, preds))\n",
    "    r2 = r2_score(y_test, preds)\n",
    "    metrics_per_model[name] = {'RMSE': rmse, 'R2': r2}\n",
    "    print(f\"{name} Base Model -> RMSE: {rmse:.4f}, R2: {r2:.4f}\")\n",
    "\n",
    "# Final dictionaries to reuse\n",
    "print(\"\\nSelected Features Per Model:\\n\", selected_features_per_model)\n",
    "print(\"\\nBase Model Metrics:\\n\", metrics_per_model)"
   ]
  },
  {
   "cell_type": "markdown",
   "id": "43138820",
   "metadata": {},
   "source": [
    "#### Tuning Models"
   ]
  },
  {
   "cell_type": "code",
   "execution_count": null,
   "id": "f053ad35",
   "metadata": {},
   "outputs": [],
   "source": [
    "# Train / Val / Test Split\n",
    "X_train_full, X_test, y_train_full, y_test = train_test_split(X, y, test_size=0.15, random_state=42)\n",
    "X_train, X_val, y_train, y_val = train_test_split(X_train_full, y_train_full, test_size=0.15, random_state=42)\n",
    "\n",
    "# Define parameter grids for tuning\n",
    "param_grids = {\n",
    "    'RandomForest': [\n",
    "        {}, \n",
    "        {'n_estimators': 150, 'max_depth': None},\n",
    "        {'n_estimators': 300, 'max_depth': 15},\n",
    "    ],\n",
    "    'XGBoost': [\n",
    "        {},\n",
    "        {'n_estimators': 200, 'max_depth': 5, 'learning_rate': 0.05},\n",
    "        {'n_estimators': 300, 'max_depth': 6, 'learning_rate': 0.03},\n",
    "    ],\n",
    "    'CatBoost': [\n",
    "        {}, \n",
    "        {'iterations': 200, 'depth': 5, 'learning_rate': 0.05, 'verbose': 0},\n",
    "        {'iterations': 300, 'depth': 6, 'learning_rate': 0.03, 'verbose': 0},\n",
    "    ]\n",
    "}\n",
    "\n",
    "# Initialize a list to store all runs\n",
    "all_runs = []\n",
    "\n",
    "# Iterate through each model and its parameter grid\n",
    "for model_name, param_list in param_grids.items():\n",
    "    features = selected_features_per_model[model_name]\n",
    "\n",
    "    print(f\"\\nTuning {model_name}...\")\n",
    "\n",
    "    # Iterate through each set of parameters\n",
    "    for i, params in enumerate(param_list, 1):\n",
    "        if model_name == 'RandomForest':\n",
    "            model = RandomForestRegressor(**params)\n",
    "        elif model_name == 'XGBoost':\n",
    "            model = XGBRegressor(**params)\n",
    "        elif model_name == 'CatBoost':\n",
    "            params['verbose'] = 0\n",
    "            model = CatBoostRegressor(**params)\n",
    "\n",
    "        # Fit the model\n",
    "        model.fit(X_train[features], y_train)\n",
    "        # Validate the model\n",
    "        val_preds = model.predict(X_val[features])\n",
    "        val_rmse = np.sqrt(mean_squared_error(y_val, val_preds))\n",
    "        val_r2 = r2_score(y_val, val_preds)\n",
    "\n",
    "        # Store the run details\n",
    "        all_runs.append({\n",
    "            'model_name': model_name,\n",
    "            'params': params,\n",
    "            'features': features,\n",
    "            'val_rmse': val_rmse,\n",
    "            'val_r2': val_r2,\n",
    "            'model': model\n",
    "        })\n",
    "\n",
    "        print(f\"Run {i} | Params: {params} | Val RMSE: {val_rmse:.4f}, Val R2: {val_r2:.4f}\")\n",
    "\n",
    "print(f\"\\nTotal runs completed: {len(all_runs)}\")\n"
   ]
  },
  {
   "cell_type": "markdown",
   "id": "73974c65",
   "metadata": {},
   "source": [
    "#### Log to MLFlow"
   ]
  },
  {
   "cell_type": "code",
   "execution_count": null,
   "id": "c1200c88",
   "metadata": {},
   "outputs": [
    {
     "name": "stderr",
     "output_type": "stream",
     "text": [
      "2025/07/14 12:59:50 INFO mlflow.tracking.fluent: Experiment with name 'My_Model_Experiment' does not exist. Creating a new experiment.\n",
      "/home/lamel/anaconda3/envs/mlops_env/lib/python3.11/site-packages/mlflow/types/utils.py:452: UserWarning: Hint: Inferred schema contains integer column(s). Integer columns in Python cannot represent missing values. If your input data contains missing values at inference time, it will be encoded as floats and will cause a schema enforcement error. The best way to avoid this problem is to infer the model schema based on a realistic data sample (training dataset) that includes missing values. Alternatively, you can declare integer columns as doubles (float64) whenever these columns may have missing values. See `Handling Integers With Missing Values <https://www.mlflow.org/docs/latest/models.html#handling-integers-with-missing-values>`_ for more details.\n",
      "  warnings.warn(\n"
     ]
    },
    {
     "name": "stdout",
     "output_type": "stream",
     "text": [
      "🏃 View run RandomForest_run_1 at: http://localhost:5000/#/experiments/1/runs/d3314c244bf64e4389f8516c2df9f69e\n",
      "🧪 View experiment at: http://localhost:5000/#/experiments/1\n"
     ]
    },
    {
     "name": "stderr",
     "output_type": "stream",
     "text": [
      "/home/lamel/anaconda3/envs/mlops_env/lib/python3.11/site-packages/mlflow/types/utils.py:452: UserWarning: Hint: Inferred schema contains integer column(s). Integer columns in Python cannot represent missing values. If your input data contains missing values at inference time, it will be encoded as floats and will cause a schema enforcement error. The best way to avoid this problem is to infer the model schema based on a realistic data sample (training dataset) that includes missing values. Alternatively, you can declare integer columns as doubles (float64) whenever these columns may have missing values. See `Handling Integers With Missing Values <https://www.mlflow.org/docs/latest/models.html#handling-integers-with-missing-values>`_ for more details.\n",
      "  warnings.warn(\n"
     ]
    },
    {
     "name": "stdout",
     "output_type": "stream",
     "text": [
      "🏃 View run RandomForest_run_2 at: http://localhost:5000/#/experiments/1/runs/fd828a3cde2b48e19a719dc43578f35e\n",
      "🧪 View experiment at: http://localhost:5000/#/experiments/1\n"
     ]
    },
    {
     "name": "stderr",
     "output_type": "stream",
     "text": [
      "/home/lamel/anaconda3/envs/mlops_env/lib/python3.11/site-packages/mlflow/types/utils.py:452: UserWarning: Hint: Inferred schema contains integer column(s). Integer columns in Python cannot represent missing values. If your input data contains missing values at inference time, it will be encoded as floats and will cause a schema enforcement error. The best way to avoid this problem is to infer the model schema based on a realistic data sample (training dataset) that includes missing values. Alternatively, you can declare integer columns as doubles (float64) whenever these columns may have missing values. See `Handling Integers With Missing Values <https://www.mlflow.org/docs/latest/models.html#handling-integers-with-missing-values>`_ for more details.\n",
      "  warnings.warn(\n"
     ]
    },
    {
     "name": "stdout",
     "output_type": "stream",
     "text": [
      "🏃 View run RandomForest_run_3 at: http://localhost:5000/#/experiments/1/runs/67a8c9761ceb4ce297fe49264c15029d\n",
      "🧪 View experiment at: http://localhost:5000/#/experiments/1\n"
     ]
    },
    {
     "name": "stderr",
     "output_type": "stream",
     "text": [
      "/home/lamel/anaconda3/envs/mlops_env/lib/python3.11/site-packages/mlflow/types/utils.py:452: UserWarning: Hint: Inferred schema contains integer column(s). Integer columns in Python cannot represent missing values. If your input data contains missing values at inference time, it will be encoded as floats and will cause a schema enforcement error. The best way to avoid this problem is to infer the model schema based on a realistic data sample (training dataset) that includes missing values. Alternatively, you can declare integer columns as doubles (float64) whenever these columns may have missing values. See `Handling Integers With Missing Values <https://www.mlflow.org/docs/latest/models.html#handling-integers-with-missing-values>`_ for more details.\n",
      "  warnings.warn(\n"
     ]
    },
    {
     "name": "stdout",
     "output_type": "stream",
     "text": [
      "🏃 View run XGBoost_run_4 at: http://localhost:5000/#/experiments/1/runs/bd8c4cd4221c45daac70e996c44c2735\n",
      "🧪 View experiment at: http://localhost:5000/#/experiments/1\n"
     ]
    },
    {
     "name": "stderr",
     "output_type": "stream",
     "text": [
      "/home/lamel/anaconda3/envs/mlops_env/lib/python3.11/site-packages/mlflow/types/utils.py:452: UserWarning: Hint: Inferred schema contains integer column(s). Integer columns in Python cannot represent missing values. If your input data contains missing values at inference time, it will be encoded as floats and will cause a schema enforcement error. The best way to avoid this problem is to infer the model schema based on a realistic data sample (training dataset) that includes missing values. Alternatively, you can declare integer columns as doubles (float64) whenever these columns may have missing values. See `Handling Integers With Missing Values <https://www.mlflow.org/docs/latest/models.html#handling-integers-with-missing-values>`_ for more details.\n",
      "  warnings.warn(\n"
     ]
    },
    {
     "name": "stdout",
     "output_type": "stream",
     "text": [
      "🏃 View run XGBoost_run_5 at: http://localhost:5000/#/experiments/1/runs/ebbf444252d3403787a8e24ffcc35cd6\n",
      "🧪 View experiment at: http://localhost:5000/#/experiments/1\n"
     ]
    },
    {
     "name": "stderr",
     "output_type": "stream",
     "text": [
      "/home/lamel/anaconda3/envs/mlops_env/lib/python3.11/site-packages/mlflow/types/utils.py:452: UserWarning: Hint: Inferred schema contains integer column(s). Integer columns in Python cannot represent missing values. If your input data contains missing values at inference time, it will be encoded as floats and will cause a schema enforcement error. The best way to avoid this problem is to infer the model schema based on a realistic data sample (training dataset) that includes missing values. Alternatively, you can declare integer columns as doubles (float64) whenever these columns may have missing values. See `Handling Integers With Missing Values <https://www.mlflow.org/docs/latest/models.html#handling-integers-with-missing-values>`_ for more details.\n",
      "  warnings.warn(\n"
     ]
    },
    {
     "name": "stdout",
     "output_type": "stream",
     "text": [
      "🏃 View run XGBoost_run_6 at: http://localhost:5000/#/experiments/1/runs/de2e7e0998ab429eb0b40382b402f941\n",
      "🧪 View experiment at: http://localhost:5000/#/experiments/1\n"
     ]
    },
    {
     "name": "stderr",
     "output_type": "stream",
     "text": [
      "/home/lamel/anaconda3/envs/mlops_env/lib/python3.11/site-packages/mlflow/types/utils.py:452: UserWarning: Hint: Inferred schema contains integer column(s). Integer columns in Python cannot represent missing values. If your input data contains missing values at inference time, it will be encoded as floats and will cause a schema enforcement error. The best way to avoid this problem is to infer the model schema based on a realistic data sample (training dataset) that includes missing values. Alternatively, you can declare integer columns as doubles (float64) whenever these columns may have missing values. See `Handling Integers With Missing Values <https://www.mlflow.org/docs/latest/models.html#handling-integers-with-missing-values>`_ for more details.\n",
      "  warnings.warn(\n"
     ]
    },
    {
     "name": "stdout",
     "output_type": "stream",
     "text": [
      "🏃 View run CatBoost_run_7 at: http://localhost:5000/#/experiments/1/runs/19e0b7023c034338a542ef94e9502abb\n",
      "🧪 View experiment at: http://localhost:5000/#/experiments/1\n"
     ]
    },
    {
     "name": "stderr",
     "output_type": "stream",
     "text": [
      "/home/lamel/anaconda3/envs/mlops_env/lib/python3.11/site-packages/mlflow/types/utils.py:452: UserWarning: Hint: Inferred schema contains integer column(s). Integer columns in Python cannot represent missing values. If your input data contains missing values at inference time, it will be encoded as floats and will cause a schema enforcement error. The best way to avoid this problem is to infer the model schema based on a realistic data sample (training dataset) that includes missing values. Alternatively, you can declare integer columns as doubles (float64) whenever these columns may have missing values. See `Handling Integers With Missing Values <https://www.mlflow.org/docs/latest/models.html#handling-integers-with-missing-values>`_ for more details.\n",
      "  warnings.warn(\n"
     ]
    },
    {
     "name": "stdout",
     "output_type": "stream",
     "text": [
      "🏃 View run CatBoost_run_8 at: http://localhost:5000/#/experiments/1/runs/feb4f2e67e6d4d6e99f9ac1b6c18d2aa\n",
      "🧪 View experiment at: http://localhost:5000/#/experiments/1\n"
     ]
    },
    {
     "name": "stderr",
     "output_type": "stream",
     "text": [
      "/home/lamel/anaconda3/envs/mlops_env/lib/python3.11/site-packages/mlflow/types/utils.py:452: UserWarning: Hint: Inferred schema contains integer column(s). Integer columns in Python cannot represent missing values. If your input data contains missing values at inference time, it will be encoded as floats and will cause a schema enforcement error. The best way to avoid this problem is to infer the model schema based on a realistic data sample (training dataset) that includes missing values. Alternatively, you can declare integer columns as doubles (float64) whenever these columns may have missing values. See `Handling Integers With Missing Values <https://www.mlflow.org/docs/latest/models.html#handling-integers-with-missing-values>`_ for more details.\n",
      "  warnings.warn(\n"
     ]
    },
    {
     "name": "stdout",
     "output_type": "stream",
     "text": [
      "🏃 View run CatBoost_run_9 at: http://localhost:5000/#/experiments/1/runs/e65d168526824ae8899a0137a17a55a1\n",
      "🧪 View experiment at: http://localhost:5000/#/experiments/1\n",
      "Logged 9 runs to MLflow.\n"
     ]
    }
   ],
   "source": [
    "# set up MLflow tracking and experiment\n",
    "mlflow.set_tracking_uri(\"http://localhost:5000\")\n",
    "mlflow.set_experiment(\"My_Model_Experiment\")\n",
    "\n",
    "# Initialize a list to store logged runs\n",
    "logged_runs = []\n",
    "\n",
    "print(\"Starting test evaluation...\\n\")\n",
    "\n",
    "# Iterate through all runs and log to MLflow\n",
    "for idx, run in enumerate(all_runs, 1):\n",
    "    try:\n",
    "        with mlflow.start_run(run_name=f\"{run['model_name']}_run_{idx}\") as mlflow_run:\n",
    "            # Log parameters\n",
    "            mlflow.log_params(run['params'])\n",
    "\n",
    "            # Log validation metrics\n",
    "            mlflow.log_metrics({'val_rmse': run['val_rmse'], 'val_r2': run['val_r2']})\n",
    "\n",
    "            # Infer signature from validation features and predictions\n",
    "            input_data = X_val[run['features']]\n",
    "            predictions = run['model'].predict(input_data)\n",
    "            signature = infer_signature(input_data, predictions)\n",
    "\n",
    "            # Log model with signature and example input\n",
    "            mlflow.sklearn.log_model(\n",
    "                sk_model=run['model'],\n",
    "                name=\"model\",\n",
    "                signature=signature,\n",
    "                input_example=input_data.iloc[:5]\n",
    "            )\n",
    "\n",
    "            # Track run info\n",
    "            logged_runs.append({\n",
    "                'run_id': mlflow_run.info.run_id,\n",
    "                **run\n",
    "            })\n",
    "    except mlflow.exceptions.MlflowException as e:\n",
    "        print(f\"Failed to log run {idx} for model {run['model_name']}: {e}\")\n",
    "\n",
    "print(f\"Logged {len(logged_runs)} runs to MLflow.\")\n"
   ]
  },
  {
   "cell_type": "code",
   "execution_count": 82,
   "id": "2b5c5bc9",
   "metadata": {},
   "outputs": [
    {
     "name": "stdout",
     "output_type": "stream",
     "text": [
      "Top 3 Models by Val RMSE:\n",
      "1. Model: RandomForest, Val RMSE: 82.0335\n",
      "2. Model: RandomForest, Val RMSE: 82.0494\n",
      "3. Model: RandomForest, Val RMSE: 82.2011\n"
     ]
    }
   ],
   "source": [
    "# Sort the logged runs by 'val_rmse' ascending (lower is better)\n",
    "top_3_runs = sorted(logged_runs, key=lambda x: x['val_rmse'])[:3]\n",
    "\n",
    "print(\"Top 3 Models by Val RMSE:\")\n",
    "for i, run in enumerate(top_3_runs, 1):\n",
    "    print(f\"{i}. Model: {run['model_name']}, Val RMSE: {run['val_rmse']:.4f}\")"
   ]
  },
  {
   "cell_type": "code",
   "execution_count": null,
   "id": "67a40906",
   "metadata": {},
   "outputs": [
    {
     "name": "stdout",
     "output_type": "stream",
     "text": [
      "Starting test evaluation...\n",
      "\n",
      "🏃 View run RandomForest_run_2 at: http://localhost:5000/#/experiments/1/runs/fd828a3cde2b48e19a719dc43578f35e\n",
      "🧪 View experiment at: http://localhost:5000/#/experiments/1\n",
      "✅ Run fd828a3cde2b48e19a719dc43578f35e | Model: RandomForest | Test RMSE: 75.6833, Test R²: 0.9468\n",
      "🏃 View run RandomForest_run_3 at: http://localhost:5000/#/experiments/1/runs/67a8c9761ceb4ce297fe49264c15029d\n",
      "🧪 View experiment at: http://localhost:5000/#/experiments/1\n",
      "✅ Run 67a8c9761ceb4ce297fe49264c15029d | Model: RandomForest | Test RMSE: 75.6127, Test R²: 0.9469\n",
      "🏃 View run RandomForest_run_1 at: http://localhost:5000/#/experiments/1/runs/d3314c244bf64e4389f8516c2df9f69e\n",
      "🧪 View experiment at: http://localhost:5000/#/experiments/1\n",
      "✅ Run d3314c244bf64e4389f8516c2df9f69e | Model: RandomForest | Test RMSE: 76.9956, Test R²: 0.9450\n",
      "\n",
      "Sorted Test Results:\n",
      "Model: RandomForest, Test RMSE: 75.6127, Test R²: 0.9469\n",
      "Model: RandomForest, Test RMSE: 75.6833, Test R²: 0.9468\n",
      "Model: RandomForest, Test RMSE: 76.9956, Test R²: 0.9450\n"
     ]
    }
   ],
   "source": [
    "# Load the MLflow client\n",
    "client = MlflowClient()\n",
    "# Prepare to evaluate the top 3 runs on the test set\n",
    "test_results = []\n",
    "\n",
    "print(\"Starting test evaluation...\\n\")\n",
    "\n",
    "# Iterate through the top 3 runs and evaluate on the test set\n",
    "for run in top_3_runs:\n",
    "    run_id = run['run_id']\n",
    "    model_name = run['model_name']\n",
    "    features = run['features']\n",
    "\n",
    "    # Load model from MLflow\n",
    "    model_uri = f\"runs:/{run_id}/model\"\n",
    "    model = mlflow.sklearn.load_model(model_uri)\n",
    "\n",
    "    # Predict on test data using training-time features\n",
    "    X_test_subset = X_test[features]\n",
    "    predictions = model.predict(X_test_subset)\n",
    "\n",
    "    # Calculate metrics\n",
    "    test_rmse = np.sqrt(mean_squared_error(y_test, predictions))\n",
    "    test_r2 = r2_score(y_test, predictions)\n",
    "\n",
    "    # Save result locally\n",
    "    test_results.append({\n",
    "        'run_id': run_id,\n",
    "        'model_name': model_name,\n",
    "        'test_rmse': test_rmse,\n",
    "        'test_r2': test_r2\n",
    "    })\n",
    "\n",
    "    # 🚀 Log metrics to existing MLflow run\n",
    "    with mlflow.start_run(run_id=run_id):\n",
    "        mlflow.log_metrics({\n",
    "            \"test_rmse\": test_rmse,\n",
    "            \"test_r2\": test_r2\n",
    "        })\n",
    "        mlflow.set_tag(\"evaluation_status\", \"tested_with_separate_script\")\n",
    "\n",
    "    print(f\"✅ Run {run_id} | Model: {model_name} | Test RMSE: {test_rmse:.4f}, Test R²: {test_r2:.4f}\")\n",
    "\n",
    "# Sort and display final results\n",
    "test_results_sorted = sorted(test_results, key=lambda x: x['test_rmse'])\n",
    "\n",
    "print(\"\\nSorted Test Results:\")\n",
    "for res in test_results_sorted:\n",
    "    print(f\"Model: {res['model_name']}, Test RMSE: {res['test_rmse']:.4f}, Test R²: {res['test_r2']:.4f}\")"
   ]
  },
  {
   "cell_type": "code",
   "execution_count": null,
   "id": "65e7340f",
   "metadata": {},
   "outputs": [
    {
     "name": "stderr",
     "output_type": "stream",
     "text": [
      "Registered model 'MyTopModel' already exists. Creating a new version of this model...\n",
      "2025/07/14 15:36:02 WARNING mlflow.tracking._model_registry.fluent: Run with id 67a8c9761ceb4ce297fe49264c15029d has no artifacts at artifact path 'model', registering model based on models:/m-5d6bc0b6a808442b8b68f22be593c46e instead\n",
      "2025/07/14 15:36:03 INFO mlflow.store.model_registry.abstract_store: Waiting up to 300 seconds for model version to finish creation. Model name: MyTopModel, version 2\n"
     ]
    },
    {
     "name": "stdout",
     "output_type": "stream",
     "text": [
      "\n",
      "✅ Model registered: 'MyTopModel', Version: 2\n"
     ]
    },
    {
     "name": "stderr",
     "output_type": "stream",
     "text": [
      "Created version '2' of model 'MyTopModel'.\n"
     ]
    }
   ],
   "source": [
    "# Register the best model based on validation RMSE\n",
    "client = MlflowClient()\n",
    "registry_model_name = \"MyTopModel\"\n",
    "model_uri = f\"runs:/{best_run_id}/model\"\n",
    "\n",
    "# Register the model\n",
    "registered_model = mlflow.register_model(model_uri, registry_model_name)\n",
    "\n",
    "print(f\"\\n✅ Model registered: '{registry_model_name}', Version: {registered_model.version}\")"
   ]
  },
  {
   "cell_type": "code",
   "execution_count": null,
   "id": "4264ca8b",
   "metadata": {},
   "outputs": [
    {
     "name": "stdout",
     "output_type": "stream",
     "text": [
      "✅ Added metadata tags to the registered model\n"
     ]
    }
   ],
   "source": [
    "# Add metadata tags to the registered model\n",
    "client = MlflowClient()\n",
    "registry_model_name = \"MyTopModel\"\n",
    "\n",
    "# Add tags to registered model\n",
    "client.set_registered_model_tag(\n",
    "    name=registry_model_name,\n",
    "    key=\"model_type\",\n",
    "    value=best_run['model_name']\n",
    ")\n",
    "\n",
    "client.set_registered_model_tag(\n",
    "    name=registry_model_name,\n",
    "    key=\"test_rmse\",\n",
    "    value=str(best_run['test_rmse'])\n",
    ")\n",
    "\n",
    "client.set_registered_model_tag(\n",
    "    name=registry_model_name,\n",
    "    key=\"features_used\",\n",
    "    value=\",\".join(best_run['features'])  # Convert list to string\n",
    ")\n",
    "\n",
    "print(\"✅ Added metadata tags to the registered model\")"
   ]
  },
  {
   "cell_type": "code",
   "execution_count": null,
   "id": "50ba3576",
   "metadata": {},
   "outputs": [],
   "source": [
    "# Set an alias for the registered model\n",
    "version = registered_model.version\n",
    "client.set_registered_model_alias(registry_model_name, \"champion\", version)"
   ]
  },
  {
   "cell_type": "code",
   "execution_count": null,
   "id": "96e38703",
   "metadata": {},
   "outputs": [],
   "source": [
    "# Load the champion model from the registry\n",
    "model = mlflow.sklearn.load_model(f\"models:/{registry_model_name}@champion\")"
   ]
  }
 ],
 "metadata": {
  "kernelspec": {
   "display_name": "mlops_env",
   "language": "python",
   "name": "python3"
  },
  "language_info": {
   "codemirror_mode": {
    "name": "ipython",
    "version": 3
   },
   "file_extension": ".py",
   "mimetype": "text/x-python",
   "name": "python",
   "nbconvert_exporter": "python",
   "pygments_lexer": "ipython3",
   "version": "3.11.13"
  }
 },
 "nbformat": 4,
 "nbformat_minor": 5
}
