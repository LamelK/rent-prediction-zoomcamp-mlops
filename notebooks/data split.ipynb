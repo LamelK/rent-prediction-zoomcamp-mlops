{
 "cells": [
  {
   "cell_type": "code",
   "execution_count": 5,
   "id": "b20c6984",
   "metadata": {},
   "outputs": [],
   "source": [
    "import pandas as pd"
   ]
  },
  {
   "cell_type": "code",
   "execution_count": 6,
   "id": "63afc887",
   "metadata": {},
   "outputs": [],
   "source": [
    "import pandas as pd\n",
    "df = pd.read_csv('../data/SolarPrediction.csv')\n",
    "# Assuming df is already loaded and 'UNIXTime' exists\n",
    "df['datetime'] = pd.to_datetime(df['UNIXTime'], unit='s')\n",
    "df = df.sort_values('datetime')\n"
   ]
  },
  {
   "cell_type": "code",
   "execution_count": 8,
   "id": "0bb81f97",
   "metadata": {},
   "outputs": [
    {
     "name": "stdout",
     "output_type": "stream",
     "text": [
      "v1: 26148 rows\n",
      "v2: 6538 rows\n"
     ]
    }
   ],
   "source": [
    "\n",
    "# Time-based 80/20 split\n",
    "split_index = int(len(df) * 0.8)\n",
    "df_v1 = df.iloc[:split_index].reset_index(drop=True)\n",
    "df_v2 = df.iloc[split_index:].reset_index(drop=True)\n",
    "\n",
    "print(f\"v1: {len(df_v1)} rows\")\n",
    "print(f\"v2: {len(df_v2)} rows\")\n"
   ]
  },
  {
   "cell_type": "code",
   "execution_count": 9,
   "id": "e5cedd04",
   "metadata": {},
   "outputs": [],
   "source": [
    "df_v1.to_csv('../data/data.csv', index=False)\n",
    "df_v2.to_csv('../data/infer_data.csv', index=False)"
   ]
  },
  {
   "cell_type": "code",
   "execution_count": null,
   "id": "37a2d72a",
   "metadata": {},
   "outputs": [],
   "source": []
  }
 ],
 "metadata": {
  "kernelspec": {
   "display_name": "mlops_env",
   "language": "python",
   "name": "python3"
  },
  "language_info": {
   "codemirror_mode": {
    "name": "ipython",
    "version": 3
   },
   "file_extension": ".py",
   "mimetype": "text/x-python",
   "name": "python",
   "nbconvert_exporter": "python",
   "pygments_lexer": "ipython3",
   "version": "3.11.13"
  }
 },
 "nbformat": 4,
 "nbformat_minor": 5
}
